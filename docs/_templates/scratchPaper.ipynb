{
 "cells": [
  {
   "cell_type": "markdown",
   "id": "c3d216e6-6bad-4b5b-a664-ffad79d0c85b",
   "metadata": {},
   "source": [
    "# Scratch Paper\n",
    "\n",
    "Here is a sandbox to see how things should compile."
   ]
  },
  {
   "cell_type": "markdown",
   "id": "aec1847f-a1ec-4111-ba21-f71085982c0e",
   "metadata": {},
   "source": [
    ":::{table}\n",
    "| Set-Builder Notation| Verbal Description| Interval Notation|\n",
    "|---|---|---|\n",
    "|$\\{x\\,\\|\\,x>a\\}$|The set of real numbers greater than $a$.|$(a,\\infty)$|\n",
    "|$\\{x\\,\\|\\,x\\ge a\\}$|The set of real numbers greater than or equal to $a$.|$[a,\\infty)$|\n",
    "|$\\{x\\,\\|\\,x<a\\}$|The set of real numbers less than $a$.|$(-\\infty,a)$|\n",
    "|$\\{x\\,\\|\\,x\\le a\\}$|The set of real numbers less than or equal to $a$.|$(-\\infty,a]$|\n",
    "|$\\{x\\,\\|\\,a<x<b\\}$|The set of real numbers between $a$ and $b$.|$(a,b)$|\n",
    "|$\\{x\\,\\|\\,a\\le x\\le b\\}$|The set of real numbers between $a$ and $b$, inclusive.|$[a,b]$|\n",
    "|$\\{x\\,\\|\\,a<x\\le b\\}$|The set of real numbers greater than $a$ and less than or equal to $b$.|$(a,b]$|\n",
    "|$\\{x\\,\\|\\,a\\le x<b\\}$|The set of real numbers greater than or equal to $a$ and less than $b$.|$[a,b)$|\n",
    "|$\\{x\\,\\|\\,x<a\\text{ or }x>b\\}$|The set of real numbers less than $a$ or greater than $b$.|$(-\\infty,a)\\cup(b,\\infty)$|\n",
    "|$\\{x\\,\\|\\,x\\in\\mathbb{R}\\}$|The set of all real numbers|$(-\\infty,\\infty)$|\n",
    ":::"
   ]
  },
  {
   "cell_type": "markdown",
   "id": "4322c01b-e37a-46a1-843b-a8539ee16d04",
   "metadata": {},
   "source": []
  }
 ],
 "metadata": {
  "kernelspec": {
   "display_name": "Maxima",
   "language": "maxima",
   "name": "maxima"
  },
  "language_info": {
   "codemirror_mode": "maxima",
   "file_extension": ".mac",
   "mimetype": "text/x-maxima",
   "name": "maxima",
   "pygments_lexer": "maxima",
   "version": "5.45.1"
  }
 },
 "nbformat": 4,
 "nbformat_minor": 5
}
