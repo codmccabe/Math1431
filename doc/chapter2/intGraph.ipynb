{
 "cells": [
  {
   "cell_type": "markdown",
   "id": "70bb8e2c-1dff-439a-8bae-be62847902ce",
   "metadata": {},
   "source": [
    "# Interactive Graphs"
   ]
  }
 ],
 "metadata": {
  "kernelspec": {
   "display_name": "Python 3 (ipykernel)",
   "language": "python",
   "name": "python3"
  },
  "language_info": {
   "codemirror_mode": {
    "name": "ipython",
    "version": 3
   },
   "file_extension": ".py",
   "mimetype": "text/x-python",
   "name": "python",
   "nbconvert_exporter": "python",
   "pygments_lexer": "ipython3",
   "version": "3.9.18"
  }
 },
 "nbformat": 4,
 "nbformat_minor": 5
}
